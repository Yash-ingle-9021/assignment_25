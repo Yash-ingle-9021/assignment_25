{
 "cells": [
  {
   "cell_type": "code",
   "execution_count": 55,
   "id": "c1eec93b-9bb4-4277-98f9-e60f7580f92e",
   "metadata": {},
   "outputs": [
    {
     "name": "stdout",
     "output_type": "stream",
     "text": [
      " * ASSIGNMENT_NUMPY_BASIC *\n"
     ]
    }
   ],
   "source": [
    "print(\" * ASSIGNMENT_NUMPY_BASIC *\")"
   ]
  },
  {
   "cell_type": "code",
   "execution_count": 54,
   "id": "9686c021-12ac-4c7b-8a02-d60c707f3ab7",
   "metadata": {},
   "outputs": [],
   "source": [
    "import numpy as np"
   ]
  },
  {
   "cell_type": "code",
   "execution_count": 33,
   "id": "86276c86-695e-4390-aad8-5d03572db768",
   "metadata": {},
   "outputs": [],
   "source": [
    "list_ = ['1' , '2' , '3' , '4' , '5']"
   ]
  },
  {
   "cell_type": "code",
   "execution_count": 56,
   "id": "f89f143a-c8be-4709-84f9-de0ff298aa32",
   "metadata": {},
   "outputs": [],
   "source": [
    "array_list = np.array(object = list_)"
   ]
  },
  {
   "cell_type": "code",
   "execution_count": 35,
   "id": "64a0acd9-d2e7-4893-8751-8a8b54b3d1c3",
   "metadata": {},
   "outputs": [
    {
     "data": {
      "text/plain": [
       "array(['1', '2', '3', '4', '5'], dtype='<U1')"
      ]
     },
     "execution_count": 35,
     "metadata": {},
     "output_type": "execute_result"
    }
   ],
   "source": [
    "array_list"
   ]
  },
  {
   "cell_type": "code",
   "execution_count": null,
   "id": "9fd507f8-a438-4f0c-945b-bcaab4a65cdb",
   "metadata": {},
   "outputs": [],
   "source": []
  },
  {
   "cell_type": "code",
   "execution_count": 3,
   "id": "5cff7ba6-424c-47eb-92ab-de9d38802a05",
   "metadata": {},
   "outputs": [
    {
     "name": "stdout",
     "output_type": "stream",
     "text": [
      "Q_1_ANS :- Well, the main difference between List and ArrayList is that List is an interface while ArrayList is a class. Most importantly, it implements the List interface, which also means that ArrayList is a subtype of the List interface. \n"
     ]
    }
   ],
   "source": [
    "print(\"Q_1_ANS :- Well, the main difference between List and ArrayList is that List is an interface while ArrayList is a class. Most importantly, it implements the List interface, which also means that ArrayList is a subtype of the List interface. \")"
   ]
  },
  {
   "cell_type": "code",
   "execution_count": 68,
   "id": "580b1333-972e-4c4b-8b98-ee56f28de9fd",
   "metadata": {},
   "outputs": [
    {
     "name": "stdout",
     "output_type": "stream",
     "text": [
      "<class 'numpy.ndarray'>\n"
     ]
    }
   ],
   "source": [
    "print(type(array_list))"
   ]
  },
  {
   "cell_type": "code",
   "execution_count": 26,
   "id": "ff56e006-90ba-46ce-ab5f-a42365d95bcc",
   "metadata": {},
   "outputs": [
    {
     "name": "stdout",
     "output_type": "stream",
     "text": [
      "<class 'list'>\n"
     ]
    }
   ],
   "source": [
    "print(type(list_))"
   ]
  },
  {
   "cell_type": "code",
   "execution_count": 70,
   "id": "387b6be4-1db6-4516-b6bf-e3dd1576d497",
   "metadata": {},
   "outputs": [
    {
     "data": {
      "text/plain": [
       "dtype('<U1')"
      ]
     },
     "execution_count": 70,
     "metadata": {},
     "output_type": "execute_result"
    }
   ],
   "source": [
    "array_list.dtype"
   ]
  },
  {
   "cell_type": "code",
   "execution_count": 48,
   "id": "c11ca1e3-30e0-44c0-9880-3b3a9e11f533",
   "metadata": {},
   "outputs": [
    {
     "name": "stdout",
     "output_type": "stream",
     "text": [
      "Q_2_ANS :- print data type using variable list_ \n",
      " print data type using variable array_list  \n"
     ]
    }
   ],
   "source": [
    "print(\"Q_2_ANS :- print data type using variable list_ \\n print data type using variable array_list  \")"
   ]
  },
  {
   "cell_type": "code",
   "execution_count": 50,
   "id": "c68cf1d9-4522-423d-a7a4-993b48fecf3d",
   "metadata": {},
   "outputs": [
    {
     "name": "stdout",
     "output_type": "stream",
     "text": [
      "<class 'str'>\n",
      "<class 'str'>\n",
      "<class 'str'>\n",
      "<class 'str'>\n",
      "<class 'str'>\n"
     ]
    }
   ],
   "source": [
    " #print data type using variable list_\n",
    "for i in list_:\n",
    "    print(type(i))"
   ]
  },
  {
   "cell_type": "code",
   "execution_count": 57,
   "id": "b8112099-b4d6-42f3-8031-2d43e268bc72",
   "metadata": {},
   "outputs": [
    {
     "name": "stdout",
     "output_type": "stream",
     "text": [
      "<class 'numpy.str_'>\n",
      "<class 'numpy.str_'>\n",
      "<class 'numpy.str_'>\n",
      "<class 'numpy.str_'>\n",
      "<class 'numpy.str_'>\n"
     ]
    }
   ],
   "source": [
    "#print data type using variable array_list\n",
    "for i in array_list:\n",
    "    print(type(i))"
   ]
  },
  {
   "cell_type": "code",
   "execution_count": 49,
   "id": "b08ad74f-0df0-4993-8b3f-99e92a79ffd7",
   "metadata": {},
   "outputs": [
    {
     "name": "stdout",
     "output_type": "stream",
     "text": [
      "Q_3_ANS :-  print data type using variable list_ \n",
      " print data type using variable array_list \n"
     ]
    }
   ],
   "source": [
    "print(\"Q_3_ANS :-  print data type using variable list_ \\n print data type using variable array_list \")"
   ]
  },
  {
   "cell_type": "code",
   "execution_count": 38,
   "id": "e6ac7dc2-dfcc-43d3-905d-ab2b20710c8d",
   "metadata": {},
   "outputs": [],
   "source": [
    "array_list = np.array(object=list_, dtype=int)"
   ]
  },
  {
   "cell_type": "code",
   "execution_count": 52,
   "id": "3236ba41-bb42-42f1-97be-7fa84094f800",
   "metadata": {},
   "outputs": [
    {
     "name": "stdout",
     "output_type": "stream",
     "text": [
      "<class 'str'>\n",
      "<class 'str'>\n",
      "<class 'str'>\n",
      "<class 'str'>\n",
      "<class 'str'>\n"
     ]
    }
   ],
   "source": [
    " #print data type using variable list_\n",
    "for i in list_:\n",
    "    print(type(i))"
   ]
  },
  {
   "cell_type": "code",
   "execution_count": 53,
   "id": "bddecffb-0610-458f-be0e-48e9cdc1f4e4",
   "metadata": {},
   "outputs": [
    {
     "name": "stdout",
     "output_type": "stream",
     "text": [
      "<class 'numpy.int64'>\n",
      "<class 'numpy.int64'>\n",
      "<class 'numpy.int64'>\n",
      "<class 'numpy.int64'>\n",
      "<class 'numpy.int64'>\n"
     ]
    }
   ],
   "source": [
    "#print data type using variable array_list\n",
    "for i in array_list:\n",
    "    print(type(i))"
   ]
  },
  {
   "cell_type": "code",
   "execution_count": 41,
   "id": "9524714d-f541-4887-8169-16655bd651f1",
   "metadata": {},
   "outputs": [
    {
     "name": "stdout",
     "output_type": "stream",
     "text": [
      "Q_4_ANS :- \n"
     ]
    }
   ],
   "source": [
    "print(\"Q_4_ANS :- \")"
   ]
  },
  {
   "cell_type": "code",
   "execution_count": 42,
   "id": "728274ff-ee17-4fad-a3e3-10ca59c0de47",
   "metadata": {},
   "outputs": [],
   "source": [
    "num_list = [[1,2,3] , [4,5,6]]"
   ]
  },
  {
   "cell_type": "code",
   "execution_count": 43,
   "id": "3459b1b4-8658-437f-843f-5b0b6782313f",
   "metadata": {},
   "outputs": [],
   "source": [
    "num_array = np.array(object = num_list)"
   ]
  },
  {
   "cell_type": "code",
   "execution_count": 44,
   "id": "fdc4f9c2-013e-4d37-9f93-decc1bd9fd95",
   "metadata": {},
   "outputs": [
    {
     "data": {
      "text/plain": [
       "array([[1, 2, 3],\n",
       "       [4, 5, 6]])"
      ]
     },
     "execution_count": 44,
     "metadata": {},
     "output_type": "execute_result"
    }
   ],
   "source": [
    "num_array"
   ]
  },
  {
   "cell_type": "code",
   "execution_count": 45,
   "id": "0415adb5-999e-423e-907c-82678732acb7",
   "metadata": {},
   "outputs": [
    {
     "data": {
      "text/plain": [
       "(2, 3)"
      ]
     },
     "execution_count": 45,
     "metadata": {},
     "output_type": "execute_result"
    }
   ],
   "source": [
    "num_array.shape"
   ]
  },
  {
   "cell_type": "code",
   "execution_count": 46,
   "id": "c30efb77-df62-42bf-8620-372d6e267187",
   "metadata": {},
   "outputs": [
    {
     "data": {
      "text/plain": [
       "6"
      ]
     },
     "execution_count": 46,
     "metadata": {},
     "output_type": "execute_result"
    }
   ],
   "source": [
    "num_array.size"
   ]
  },
  {
   "cell_type": "code",
   "execution_count": 60,
   "id": "c7e3d6b5-9b2b-410f-950d-e94161292b3c",
   "metadata": {},
   "outputs": [
    {
     "name": "stdout",
     "output_type": "stream",
     "text": [
      "Q_5_ANS :- created matrix of 3*3 \n"
     ]
    }
   ],
   "source": [
    "print(\"Q_5_ANS :- created matrix of 3*3 \")"
   ]
  },
  {
   "cell_type": "code",
   "execution_count": 71,
   "id": "36a9f365-0c2f-4415-8120-b086a0082ac5",
   "metadata": {},
   "outputs": [
    {
     "data": {
      "text/plain": [
       "array([[0, 0, 0],\n",
       "       [0, 0, 0],\n",
       "       [0, 0, 0]])"
      ]
     },
     "execution_count": 71,
     "metadata": {},
     "output_type": "execute_result"
    }
   ],
   "source": [
    "np.array([[0, 0, 0],\n",
    "       [0, 0, 0],\n",
    "       [0, 0, 0]])"
   ]
  },
  {
   "cell_type": "code",
   "execution_count": 63,
   "id": "dee7e435-912b-4fea-aafe-fbeb05211485",
   "metadata": {},
   "outputs": [
    {
     "data": {
      "text/plain": [
       "array([[0., 0., 0.],\n",
       "       [0., 0., 0.],\n",
       "       [0., 0., 0.]])"
      ]
     },
     "execution_count": 63,
     "metadata": {},
     "output_type": "execute_result"
    }
   ],
   "source": [
    "np.zeros((3,3))"
   ]
  },
  {
   "cell_type": "code",
   "execution_count": 72,
   "id": "554dd902-5448-40df-9d8c-c1f66167b6b1",
   "metadata": {},
   "outputs": [
    {
     "name": "stdout",
     "output_type": "stream",
     "text": [
      "Q_6_ANS :- created identical matrix \n"
     ]
    }
   ],
   "source": [
    "print(\"Q_6_ANS :- created identical matrix \")"
   ]
  },
  {
   "cell_type": "code",
   "execution_count": 65,
   "id": "0a81aabf-7b3e-4967-b0ba-6ac86d0d1548",
   "metadata": {},
   "outputs": [
    {
     "data": {
      "text/plain": [
       "array([[1., 0., 0., 0., 0.],\n",
       "       [0., 1., 0., 0., 0.],\n",
       "       [0., 0., 1., 0., 0.],\n",
       "       [0., 0., 0., 1., 0.],\n",
       "       [0., 0., 0., 0., 1.]])"
      ]
     },
     "execution_count": 65,
     "metadata": {},
     "output_type": "execute_result"
    }
   ],
   "source": [
    "np.eye(5)"
   ]
  },
  {
   "cell_type": "code",
   "execution_count": null,
   "id": "75f19c8e-7c02-4a23-ab98-d227cab3771e",
   "metadata": {},
   "outputs": [],
   "source": []
  }
 ],
 "metadata": {
  "kernelspec": {
   "display_name": "Python 3 (ipykernel)",
   "language": "python",
   "name": "python3"
  },
  "language_info": {
   "codemirror_mode": {
    "name": "ipython",
    "version": 3
   },
   "file_extension": ".py",
   "mimetype": "text/x-python",
   "name": "python",
   "nbconvert_exporter": "python",
   "pygments_lexer": "ipython3",
   "version": "3.10.6"
  }
 },
 "nbformat": 4,
 "nbformat_minor": 5
}
